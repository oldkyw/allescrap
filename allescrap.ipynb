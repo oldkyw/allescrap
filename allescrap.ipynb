{
 "cells": [
  {
   "cell_type": "code",
   "execution_count": 1,
   "metadata": {},
   "outputs": [],
   "source": [
    "import re\n",
    "import pandas as pd"
   ]
  },
  {
   "cell_type": "code",
   "execution_count": 2,
   "metadata": {},
   "outputs": [],
   "source": [
    "from allegro import *"
   ]
  },
  {
   "cell_type": "code",
   "execution_count": 3,
   "metadata": {},
   "outputs": [],
   "source": [
    "table = pd.read_html('https://www.cpubenchmark.net/cpu_list.php')"
   ]
  },
  {
   "cell_type": "code",
   "execution_count": 4,
   "metadata": {},
   "outputs": [],
   "source": [
    "class Processor:\n",
    "    \n",
    "    def __init__(self, string):\n",
    "        self.string = string\n",
    "        self.price = float(string['sellingMode']['price']['amount'])\n",
    "        self.delivery_price = 0 if string['delivery']['availableForFree'] else float(string['delivery']['lowestPrice']['amount'])\n",
    "        self.total_price = self.price + self.delivery_price\n",
    "        link = 'https://allegro.pl/oferta/' + string['id']\n",
    "        self.link = link\n",
    "        self.name = None\n"
   ]
  },
  {
   "cell_type": "code",
   "execution_count": 5,
   "metadata": {},
   "outputs": [],
   "source": [
    "single_cpu, multi_cpu = table\n",
    "single_cpu = single_cpu.rename({'CPU Name': 'name', 'CPU Mark(higher is better)': 'score'}, axis='columns', errors='raise')\n",
    "single_cpu = single_cpu[['name', 'score']]"
   ]
  },
  {
   "cell_type": "code",
   "execution_count": 6,
   "metadata": {},
   "outputs": [
    {
     "name": "stdout",
     "output_type": "stream",
     "text": [
      "Loading page 1 out of 14\n",
      "Loading page 2 out of 14\n",
      "Loading page 3 out of 14\n",
      "Loading page 4 out of 14\n",
      "Loading page 5 out of 14\n",
      "Loading page 6 out of 14\n",
      "Loading page 7 out of 14\n",
      "Loading page 8 out of 14\n",
      "Loading page 9 out of 14\n",
      "Loading page 10 out of 14\n",
      "Loading page 11 out of 14\n",
      "Loading page 12 out of 14\n",
      "Loading page 13 out of 14\n",
      "Loading page 14 out of 14\n"
     ]
    }
   ],
   "source": [
    "minBenchmark = 4000\n",
    "used_sockets = ['1151', '1150', 'AM3', '1155', '1156', 'AM3+']\n",
    "price_range = (0,150)\n",
    "# k = loadDictionary('dict.txt', used_sockets)\n",
    "\n",
    "auction_list = get_auction_data(sockets=used_sockets, price=price_range, mobo=False)"
   ]
  },
  {
   "cell_type": "code",
   "execution_count": 7,
   "metadata": {},
   "outputs": [],
   "source": [
    "iseries = re.compile('i[3579]\\s*-*\\s*\\d{3,4}[pktcsbehr(hq)(te)(eq)(kf)]*', re.I)\n",
    "pentium = re.compile('g\\s*\\d{3,4}\\s*[(te)t]*', re.I)\n",
    "xeons   = re.compile('[elx]3*\\s*-*\\s*\\d{4}[lg]*', re.I)\n",
    "athlonx = re.compile('x[234p6]\\s\\d{3,4}[etu\\+]*', re.I)\n",
    "athlon = re.compile('(?<!fx-)(?<!fx)(?<!\\w)(?<!fx\\s)(?<!x[234p6]\\s)[(le)(gp)(be)]*-*\\d{4}[\\+eb]*(?!\\w)', re.I)\n",
    "fxs = re.compile('fx\\s*-*\\s*b*\\d{4}e*', re.I)\n",
    "xnbs = re.compile('x[234]\\sb\\d{2}e*', re.I)\n",
    "\n",
    "procs = [iseries,fxs, athlonx, athlon, xnbs]\n",
    "#procs = [iseries, pentium, xeons]"
   ]
  },
  {
   "cell_type": "code",
   "execution_count": 8,
   "metadata": {},
   "outputs": [],
   "source": [
    "df = pd.DataFrame(columns = ['name', 'price', 'total_price', 'link'])"
   ]
  },
  {
   "cell_type": "code",
   "execution_count": 9,
   "metadata": {
    "scrolled": true
   },
   "outputs": [],
   "source": [
    "for element in auction_list:\n",
    "    cpu = Processor(element)\n",
    "    \n",
    "#     link_CPU = lambda name: 'https://www.cpubenchmark.net/cpu.php?cpu=' + re.sub('@', '%40', re.sub(' ', '+', name))\n",
    "\n",
    "    for pattern in procs:\n",
    "\n",
    "        if pattern.search(element['name'], re.I):\n",
    "\n",
    "            #if motherboards then probably CPU name will be the last identified \"G4560\"-type key in the name\n",
    "            if False: #is motherboard 'id=4228&' in URI:\n",
    "                newName = pattern.findall(element['name'], re.I)[-1]\n",
    "            else:\n",
    "                newName = pattern.findall(element['name'], re.I)[0]\n",
    "\n",
    "            #print('{0:50.50}: \\033[0;32m {1:10.10} {2:10.10} {3:10.10} {4:10.10}\\x1b[0m'.format(element['name'], newName, re.sub( '(?<=i[3579])\\s(?=\\d{3,4})', '-', newName, flags=re.I), re.sub( '(?<=fx)\\s(?=\\d{3,4})', '-', newName, flags=re.I), re.sub( '(?<![fxi]\\w)[\\s-]', '', newName, flags=re.I) ))\n",
    "            #remove whitespaces and insert hyphen for i[357] and fx series   \n",
    "\n",
    "            newName = re.sub( '(?<=i[3579])\\s(?=\\d{3,4})', '-', newName, flags=re.I)\n",
    "#             print(newName)\n",
    "            newName = re.sub( '(?<=fx)\\s*(?=\\d{3,4})', '-', newName, flags=re.I)\n",
    "#             print(newName)\n",
    "            #newName = re.sub( '\\s', '', newName)\n",
    "            newName = re.sub( '(?<![fxi]\\w)[\\s-]', '', newName, flags=re.I)\n",
    "#             print(newName)\n",
    "            break\n",
    "        else:\n",
    "            newName = 'Error'\n",
    "    cpu.name = newName\n",
    "    df = df.append({\n",
    "        'name': cpu.name,\n",
    "        'price': cpu.price,\n",
    "        'total_price': cpu.total_price,\n",
    "        'link': cpu.link}, ignore_index=True)"
   ]
  },
  {
   "cell_type": "code",
   "execution_count": 10,
   "metadata": {},
   "outputs": [
    {
     "data": {
      "text/plain": [
       "'I5-3570'"
      ]
     },
     "execution_count": 10,
     "metadata": {},
     "output_type": "execute_result"
    }
   ],
   "source": [
    "df['name'][0]"
   ]
  },
  {
   "cell_type": "code",
   "execution_count": 11,
   "metadata": {},
   "outputs": [
    {
     "data": {
      "text/html": [
       "<div>\n",
       "<style scoped>\n",
       "    .dataframe tbody tr th:only-of-type {\n",
       "        vertical-align: middle;\n",
       "    }\n",
       "\n",
       "    .dataframe tbody tr th {\n",
       "        vertical-align: top;\n",
       "    }\n",
       "\n",
       "    .dataframe thead th {\n",
       "        text-align: right;\n",
       "    }\n",
       "</style>\n",
       "<table border=\"1\" class=\"dataframe\">\n",
       "  <thead>\n",
       "    <tr style=\"text-align: right;\">\n",
       "      <th></th>\n",
       "      <th>name</th>\n",
       "      <th>price</th>\n",
       "      <th>total_price</th>\n",
       "      <th>link</th>\n",
       "    </tr>\n",
       "  </thead>\n",
       "  <tbody>\n",
       "    <tr>\n",
       "      <th>0</th>\n",
       "      <td>I5-3570</td>\n",
       "      <td>149.00</td>\n",
       "      <td>157.99</td>\n",
       "      <td>https://allegro.pl/oferta/9176656887</td>\n",
       "    </tr>\n",
       "    <tr>\n",
       "      <th>1</th>\n",
       "      <td>i5-3470</td>\n",
       "      <td>114.00</td>\n",
       "      <td>122.99</td>\n",
       "      <td>https://allegro.pl/oferta/8405286122</td>\n",
       "    </tr>\n",
       "    <tr>\n",
       "      <th>2</th>\n",
       "      <td>x4 955</td>\n",
       "      <td>150.00</td>\n",
       "      <td>158.99</td>\n",
       "      <td>https://allegro.pl/oferta/9333749874</td>\n",
       "    </tr>\n",
       "    <tr>\n",
       "      <th>3</th>\n",
       "      <td>i3-4130</td>\n",
       "      <td>90.00</td>\n",
       "      <td>98.99</td>\n",
       "      <td>https://allegro.pl/oferta/9039330742</td>\n",
       "    </tr>\n",
       "    <tr>\n",
       "      <th>4</th>\n",
       "      <td>i5-3470</td>\n",
       "      <td>132.00</td>\n",
       "      <td>140.99</td>\n",
       "      <td>https://allegro.pl/oferta/9039143057</td>\n",
       "    </tr>\n",
       "    <tr>\n",
       "      <th>...</th>\n",
       "      <td>...</td>\n",
       "      <td>...</td>\n",
       "      <td>...</td>\n",
       "      <td>...</td>\n",
       "    </tr>\n",
       "    <tr>\n",
       "      <th>835</th>\n",
       "      <td>X3 445</td>\n",
       "      <td>55.00</td>\n",
       "      <td>63.99</td>\n",
       "      <td>https://allegro.pl/oferta/8596029159</td>\n",
       "    </tr>\n",
       "    <tr>\n",
       "      <th>836</th>\n",
       "      <td>i5-2500</td>\n",
       "      <td>129.99</td>\n",
       "      <td>138.98</td>\n",
       "      <td>https://allegro.pl/oferta/9263920094</td>\n",
       "    </tr>\n",
       "    <tr>\n",
       "      <th>837</th>\n",
       "      <td>I3-2120</td>\n",
       "      <td>119.00</td>\n",
       "      <td>124.90</td>\n",
       "      <td>https://allegro.pl/oferta/7993680114</td>\n",
       "    </tr>\n",
       "    <tr>\n",
       "      <th>838</th>\n",
       "      <td>I3-2120</td>\n",
       "      <td>29.99</td>\n",
       "      <td>49.99</td>\n",
       "      <td>https://allegro.pl/oferta/8987445079</td>\n",
       "    </tr>\n",
       "    <tr>\n",
       "      <th>839</th>\n",
       "      <td>Error</td>\n",
       "      <td>20.99</td>\n",
       "      <td>29.98</td>\n",
       "      <td>https://allegro.pl/oferta/9269420439</td>\n",
       "    </tr>\n",
       "  </tbody>\n",
       "</table>\n",
       "<p>840 rows × 4 columns</p>\n",
       "</div>"
      ],
      "text/plain": [
       "        name   price  total_price                                  link\n",
       "0    I5-3570  149.00       157.99  https://allegro.pl/oferta/9176656887\n",
       "1    i5-3470  114.00       122.99  https://allegro.pl/oferta/8405286122\n",
       "2     x4 955  150.00       158.99  https://allegro.pl/oferta/9333749874\n",
       "3    i3-4130   90.00        98.99  https://allegro.pl/oferta/9039330742\n",
       "4    i5-3470  132.00       140.99  https://allegro.pl/oferta/9039143057\n",
       "..       ...     ...          ...                                   ...\n",
       "835   X3 445   55.00        63.99  https://allegro.pl/oferta/8596029159\n",
       "836  i5-2500  129.99       138.98  https://allegro.pl/oferta/9263920094\n",
       "837  I3-2120  119.00       124.90  https://allegro.pl/oferta/7993680114\n",
       "838  I3-2120   29.99        49.99  https://allegro.pl/oferta/8987445079\n",
       "839    Error   20.99        29.98  https://allegro.pl/oferta/9269420439\n",
       "\n",
       "[840 rows x 4 columns]"
      ]
     },
     "execution_count": 11,
     "metadata": {},
     "output_type": "execute_result"
    }
   ],
   "source": [
    "df"
   ]
  },
  {
   "cell_type": "code",
   "execution_count": 96,
   "metadata": {},
   "outputs": [
    {
     "data": {
      "text/plain": [
       "'Procesor intel core i5-3470 gwarancja Lga1155'"
      ]
     },
     "execution_count": 96,
     "metadata": {},
     "output_type": "execute_result"
    }
   ],
   "source": [
    "cpu.string['name']"
   ]
  },
  {
   "cell_type": "code",
   "execution_count": 60,
   "metadata": {},
   "outputs": [
    {
     "data": {
      "text/plain": [
       "'3470'"
      ]
     },
     "execution_count": 60,
     "metadata": {},
     "output_type": "execute_result"
    }
   ],
   "source": [
    "cpu.name"
   ]
  },
  {
   "cell_type": "code",
   "execution_count": 169,
   "metadata": {},
   "outputs": [
    {
     "data": {
      "text/html": [
       "<div>\n",
       "<style scoped>\n",
       "    .dataframe tbody tr th:only-of-type {\n",
       "        vertical-align: middle;\n",
       "    }\n",
       "\n",
       "    .dataframe tbody tr th {\n",
       "        vertical-align: top;\n",
       "    }\n",
       "\n",
       "    .dataframe thead th {\n",
       "        text-align: right;\n",
       "    }\n",
       "</style>\n",
       "<table border=\"1\" class=\"dataframe\">\n",
       "  <thead>\n",
       "    <tr style=\"text-align: right;\">\n",
       "      <th></th>\n",
       "      <th>name</th>\n",
       "      <th>score</th>\n",
       "    </tr>\n",
       "  </thead>\n",
       "  <tbody>\n",
       "    <tr>\n",
       "      <th>284</th>\n",
       "      <td>AMD Athlon II X3 445</td>\n",
       "      <td>1697</td>\n",
       "    </tr>\n",
       "  </tbody>\n",
       "</table>\n",
       "</div>"
      ],
      "text/plain": [
       "                     name  score\n",
       "284  AMD Athlon II X3 445   1697"
      ]
     },
     "execution_count": 169,
     "metadata": {},
     "output_type": "execute_result"
    }
   ],
   "source": [
    "single_cpu[single_cpu['name'].str.contains(cpu.name)]"
   ]
  },
  {
   "cell_type": "code",
   "execution_count": 167,
   "metadata": {},
   "outputs": [
    {
     "data": {
      "text/plain": [
       "284    1697\n",
       "Name: score, dtype: int64"
      ]
     },
     "execution_count": 167,
     "metadata": {},
     "output_type": "execute_result"
    }
   ],
   "source": [
    "x"
   ]
  },
  {
   "cell_type": "code",
   "execution_count": 159,
   "metadata": {},
   "outputs": [
    {
     "data": {
      "text/html": [
       "<div>\n",
       "<style scoped>\n",
       "    .dataframe tbody tr th:only-of-type {\n",
       "        vertical-align: middle;\n",
       "    }\n",
       "\n",
       "    .dataframe tbody tr th {\n",
       "        vertical-align: top;\n",
       "    }\n",
       "\n",
       "    .dataframe thead th {\n",
       "        text-align: right;\n",
       "    }\n",
       "</style>\n",
       "<table border=\"1\" class=\"dataframe\">\n",
       "  <thead>\n",
       "    <tr style=\"text-align: right;\">\n",
       "      <th></th>\n",
       "      <th>name</th>\n",
       "      <th>score</th>\n",
       "    </tr>\n",
       "  </thead>\n",
       "  <tbody>\n",
       "    <tr>\n",
       "      <th>0</th>\n",
       "      <td>AMD A10 Micro-6700T APU</td>\n",
       "      <td>1257</td>\n",
       "    </tr>\n",
       "    <tr>\n",
       "      <th>1</th>\n",
       "      <td>AMD A10 PRO-7350B APU</td>\n",
       "      <td>1746</td>\n",
       "    </tr>\n",
       "    <tr>\n",
       "      <th>2</th>\n",
       "      <td>AMD A10 PRO-7800B APU</td>\n",
       "      <td>2983</td>\n",
       "    </tr>\n",
       "    <tr>\n",
       "      <th>3</th>\n",
       "      <td>AMD A10 PRO-7850B APU</td>\n",
       "      <td>3308</td>\n",
       "    </tr>\n",
       "    <tr>\n",
       "      <th>4</th>\n",
       "      <td>AMD A10-4600M APU</td>\n",
       "      <td>1896</td>\n",
       "    </tr>\n",
       "    <tr>\n",
       "      <th>...</th>\n",
       "      <td>...</td>\n",
       "      <td>...</td>\n",
       "    </tr>\n",
       "    <tr>\n",
       "      <th>2883</th>\n",
       "      <td>VIA QuadCore C4650@2.0GHz</td>\n",
       "      <td>1323</td>\n",
       "    </tr>\n",
       "    <tr>\n",
       "      <th>2884</th>\n",
       "      <td>VIA QuadCore L4700 @ 1.2+ GHz</td>\n",
       "      <td>740</td>\n",
       "    </tr>\n",
       "    <tr>\n",
       "      <th>2885</th>\n",
       "      <td>VIA QuadCore U4650 @ 1.0+ GHz</td>\n",
       "      <td>637</td>\n",
       "    </tr>\n",
       "    <tr>\n",
       "      <th>2886</th>\n",
       "      <td>ZHAOXIN KaiXian KX-U6780A@2.7GHz</td>\n",
       "      <td>5761</td>\n",
       "    </tr>\n",
       "    <tr>\n",
       "      <th>2887</th>\n",
       "      <td>ZHAOXIN KaiXian ZX-C+ C4700@2.0GHz</td>\n",
       "      <td>1547</td>\n",
       "    </tr>\n",
       "  </tbody>\n",
       "</table>\n",
       "<p>2888 rows × 2 columns</p>\n",
       "</div>"
      ],
      "text/plain": [
       "                                    name  score\n",
       "0                AMD A10 Micro-6700T APU   1257\n",
       "1                  AMD A10 PRO-7350B APU   1746\n",
       "2                  AMD A10 PRO-7800B APU   2983\n",
       "3                  AMD A10 PRO-7850B APU   3308\n",
       "4                      AMD A10-4600M APU   1896\n",
       "...                                  ...    ...\n",
       "2883           VIA QuadCore C4650@2.0GHz   1323\n",
       "2884       VIA QuadCore L4700 @ 1.2+ GHz    740\n",
       "2885       VIA QuadCore U4650 @ 1.0+ GHz    637\n",
       "2886    ZHAOXIN KaiXian KX-U6780A@2.7GHz   5761\n",
       "2887  ZHAOXIN KaiXian ZX-C+ C4700@2.0GHz   1547\n",
       "\n",
       "[2888 rows x 2 columns]"
      ]
     },
     "execution_count": 159,
     "metadata": {},
     "output_type": "execute_result"
    }
   ],
   "source": [
    "single_cpu"
   ]
  },
  {
   "cell_type": "code",
   "execution_count": 135,
   "metadata": {},
   "outputs": [
    {
     "data": {
      "text/html": [
       "<div>\n",
       "<style scoped>\n",
       "    .dataframe tbody tr th:only-of-type {\n",
       "        vertical-align: middle;\n",
       "    }\n",
       "\n",
       "    .dataframe tbody tr th {\n",
       "        vertical-align: top;\n",
       "    }\n",
       "\n",
       "    .dataframe thead th {\n",
       "        text-align: right;\n",
       "    }\n",
       "</style>\n",
       "<table border=\"1\" class=\"dataframe\">\n",
       "  <thead>\n",
       "    <tr style=\"text-align: right;\">\n",
       "      <th></th>\n",
       "      <th>name</th>\n",
       "      <th>score</th>\n",
       "    </tr>\n",
       "  </thead>\n",
       "  <tbody>\n",
       "    <tr>\n",
       "      <th>0</th>\n",
       "      <td>AMD A10 Micro-6700T APU</td>\n",
       "      <td>1257</td>\n",
       "    </tr>\n",
       "    <tr>\n",
       "      <th>1</th>\n",
       "      <td>AMD A10 PRO-7350B APU</td>\n",
       "      <td>1746</td>\n",
       "    </tr>\n",
       "    <tr>\n",
       "      <th>2</th>\n",
       "      <td>AMD A10 PRO-7800B APU</td>\n",
       "      <td>2983</td>\n",
       "    </tr>\n",
       "    <tr>\n",
       "      <th>3</th>\n",
       "      <td>AMD A10 PRO-7850B APU</td>\n",
       "      <td>3308</td>\n",
       "    </tr>\n",
       "    <tr>\n",
       "      <th>4</th>\n",
       "      <td>AMD A10-4600M APU</td>\n",
       "      <td>1896</td>\n",
       "    </tr>\n",
       "    <tr>\n",
       "      <th>...</th>\n",
       "      <td>...</td>\n",
       "      <td>...</td>\n",
       "    </tr>\n",
       "    <tr>\n",
       "      <th>2883</th>\n",
       "      <td>VIA QuadCore C4650@2.0GHz</td>\n",
       "      <td>1323</td>\n",
       "    </tr>\n",
       "    <tr>\n",
       "      <th>2884</th>\n",
       "      <td>VIA QuadCore L4700 @ 1.2+ GHz</td>\n",
       "      <td>740</td>\n",
       "    </tr>\n",
       "    <tr>\n",
       "      <th>2885</th>\n",
       "      <td>VIA QuadCore U4650 @ 1.0+ GHz</td>\n",
       "      <td>637</td>\n",
       "    </tr>\n",
       "    <tr>\n",
       "      <th>2886</th>\n",
       "      <td>ZHAOXIN KaiXian KX-U6780A@2.7GHz</td>\n",
       "      <td>5761</td>\n",
       "    </tr>\n",
       "    <tr>\n",
       "      <th>2887</th>\n",
       "      <td>ZHAOXIN KaiXian ZX-C+ C4700@2.0GHz</td>\n",
       "      <td>1547</td>\n",
       "    </tr>\n",
       "  </tbody>\n",
       "</table>\n",
       "<p>2888 rows × 2 columns</p>\n",
       "</div>"
      ],
      "text/plain": [
       "                                    name  score\n",
       "0                AMD A10 Micro-6700T APU   1257\n",
       "1                  AMD A10 PRO-7350B APU   1746\n",
       "2                  AMD A10 PRO-7800B APU   2983\n",
       "3                  AMD A10 PRO-7850B APU   3308\n",
       "4                      AMD A10-4600M APU   1896\n",
       "...                                  ...    ...\n",
       "2883           VIA QuadCore C4650@2.0GHz   1323\n",
       "2884       VIA QuadCore L4700 @ 1.2+ GHz    740\n",
       "2885       VIA QuadCore U4650 @ 1.0+ GHz    637\n",
       "2886    ZHAOXIN KaiXian KX-U6780A@2.7GHz   5761\n",
       "2887  ZHAOXIN KaiXian ZX-C+ C4700@2.0GHz   1547\n",
       "\n",
       "[2888 rows x 2 columns]"
      ]
     },
     "execution_count": 135,
     "metadata": {},
     "output_type": "execute_result"
    }
   ],
   "source": []
  },
  {
   "cell_type": "code",
   "execution_count": 77,
   "metadata": {},
   "outputs": [
    {
     "data": {
      "text/plain": [
       "'Procesor intel core i5-3470 gwarancja Lga1155'"
      ]
     },
     "execution_count": 77,
     "metadata": {},
     "output_type": "execute_result"
    }
   ],
   "source": [
    "cpu.string['name']"
   ]
  },
  {
   "cell_type": "code",
   "execution_count": 78,
   "metadata": {},
   "outputs": [],
   "source": [
    "iseries = re.compile('i[3579][\\s-]\\d{3,4}[pktcsbehr(hq)(te)(eq)(kf)]*', re.I)"
   ]
  },
  {
   "cell_type": "code",
   "execution_count": 79,
   "metadata": {},
   "outputs": [
    {
     "data": {
      "text/plain": [
       "['i5-3470']"
      ]
     },
     "execution_count": 79,
     "metadata": {},
     "output_type": "execute_result"
    }
   ],
   "source": [
    "iseries.findall(cpu.string['name'])"
   ]
  },
  {
   "cell_type": "code",
   "execution_count": null,
   "metadata": {},
   "outputs": [],
   "source": []
  }
 ],
 "metadata": {
  "kernelspec": {
   "display_name": "Python 3",
   "language": "python",
   "name": "python3"
  },
  "language_info": {
   "codemirror_mode": {
    "name": "ipython",
    "version": 3
   },
   "file_extension": ".py",
   "mimetype": "text/x-python",
   "name": "python",
   "nbconvert_exporter": "python",
   "pygments_lexer": "ipython3",
   "version": "3.7.7"
  }
 },
 "nbformat": 4,
 "nbformat_minor": 4
}
